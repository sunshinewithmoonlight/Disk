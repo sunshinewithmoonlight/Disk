{
 "cells": [
  {
   "cell_type": "code",
   "execution_count": 1,
   "metadata": {},
   "outputs": [
    {
     "data": {
      "text/plain": [
       "'\\n    这是什么的需求？\\n    首先，识别用户做什么；其次，用户想做什么；\\n    用户的输入，输出，他们遵循的语法，\\n    都一定程度的表现了想做什么，\\n    并且，还有与生俱来的二义性。\\n    \\n    决定取代或留住，须认识到所有的项的必要性\\n    和选择结果的需要性\\n'"
      ]
     },
     "execution_count": 1,
     "metadata": {},
     "output_type": "execute_result"
    }
   ],
   "source": [
    "'''\n",
    "    这是什么的需求？\n",
    "    首先，识别用户做什么；其次，用户想做什么；\n",
    "    用户的输入，输出，他们遵循的语法，\n",
    "    都一定程度的表现了想做什么，\n",
    "    并且，还有与生俱来的二义性。\n",
    "    \n",
    "    决定取代或留住，须认识到所有的项的必要性\n",
    "    和选择结果的需要性\n",
    "'''"
   ]
  },
  {
   "cell_type": "code",
   "execution_count": 1,
   "metadata": {},
   "outputs": [
    {
     "ename": "SyntaxError",
     "evalue": "invalid syntax (<ipython-input-1-117e97ea4c3a>, line 18)",
     "output_type": "error",
     "traceback": [
      "\u001b[0;36m  File \u001b[0;32m\"<ipython-input-1-117e97ea4c3a>\"\u001b[0;36m, line \u001b[0;32m18\u001b[0m\n\u001b[0;31m    else if (eachline[i].isspace()):\u001b[0m\n\u001b[0m       ^\u001b[0m\n\u001b[0;31mSyntaxError\u001b[0m\u001b[0;31m:\u001b[0m invalid syntax\n"
     ]
    }
   ],
   "source": [
    "import re\n",
    "import pyparsing\n",
    "from pyparsing import *\n",
    "\n",
    "eachlines = open('t').read().splitlines()\n",
    "\n",
    "print(eachlines)\n",
    "rearlines = []   # rearanged lines\n",
    "for eachline in eachlines:\n",
    "    rearline = []\n",
    "    rearline_strpos = 0\n",
    "    readchars = ''   # read chars\n",
    "    readchars_list = 0b0   # if is value, show 0 ; else if is identifier, show 1.\n",
    "    for i in range(len(eachline)):\n",
    "        if (ord(eachline[i])>64 and ord(eachline[i])<123):\n",
    "            readchars.join(eachline[i])\n",
    "            rearline.append(\n",
    "        else if (eachline[i].isspace()):\n",
    "            rearline_strpos += 1\n",
    "        else if (eachline[i] == '\\n' or i + 1 == len(eachline)):\n",
    "            rearlines.append(rearline)\n",
    "        else:\n",
    "            \n",
    "            "
   ]
  },
  {
   "cell_type": "code",
   "execution_count": 3,
   "metadata": {},
   "outputs": [
    {
     "name": "stdout",
     "output_type": "stream",
     "text": [
      "!\"#$%&'()*+,-./0123456789:;<=>?@ABCDEFGHIJKLMNOPQRSTUVWXYZ[\\]^_`abcdefghijklmnopqrstuvwxyz{|}~\n",
      "\n",
      "97\n"
     ]
    }
   ],
   "source": [
    "print(u''.join(chr(c) for c in range(33, 127) if not (chr(c).isspace())))\n",
    "\n",
    "print()\n",
    "print(ord('a'))\n"
   ]
  },
  {
   "cell_type": "code",
   "execution_count": 8,
   "metadata": {},
   "outputs": [
    {
     "name": "stdout",
     "output_type": "stream",
     "text": [
      "1\n",
      "True\n"
     ]
    }
   ],
   "source": [
    "sa01s = '\\n'\n",
    "#print (sa01s)\n",
    "print (len(sa01s))\n",
    "print (sa01s[0].isspace())"
   ]
  },
  {
   "cell_type": "code",
   "execution_count": 42,
   "metadata": {},
   "outputs": [
    {
     "name": "stdout",
     "output_type": "stream",
     "text": [
      "\n",
      "\n",
      "\n",
      "\n",
      "\n",
      "\n",
      "\n",
      "\n",
      "\n",
      "\n",
      "\n",
      "\n",
      "\n",
      "\n",
      "\n",
      "\n",
      "\n",
      "\n",
      "\n",
      "\n",
      "\n",
      "\n",
      "\n",
      "\n",
      "\n",
      "\n",
      "\n",
      "\n",
      "\n",
      "\n",
      "\n",
      "\n",
      "\n",
      "\n",
      "\n",
      "\n",
      "\n",
      "\n",
      "\n",
      "\n",
      "\n",
      "\n",
      "\n",
      "\n",
      "\n",
      "\n",
      "\n",
      "\n",
      "\n",
      "\n",
      "\n",
      "\n",
      "\n",
      "\n",
      "\n",
      "\n",
      "\n",
      "\n",
      "\n",
      "\n",
      "\n",
      "\n",
      "\n",
      "\n",
      "\n",
      "\n",
      "\n",
      "\n",
      "\n",
      "\n",
      "\n",
      "\n",
      "\n",
      "\n",
      "\n",
      "\n",
      "\n",
      "\n",
      "\n",
      "\n",
      "\n",
      "\n",
      "\n",
      "\n",
      "\n",
      "\n",
      "\n",
      "\n",
      "\n",
      "\n",
      "\n",
      "\n",
      "\n",
      "\n",
      "\n",
      "\n",
      "\n",
      "\n",
      "\n",
      "\n",
      "\n",
      "\n",
      "\n",
      "\n",
      "\n",
      "\n",
      "\n",
      "\n",
      "\n",
      "\n",
      "\n"
     ]
    }
   ],
   "source": [
    "\n",
    "sfiles = open('t').read()\n",
    "\n",
    "for s01s in sfiles:\n",
    "    s08s = 0\n",
    "    s02s = ''\n",
    "    \n",
    "    #for i in range(len(s01s)):\n",
    "    #    print (s01s[i])\n",
    "    \n",
    "    while False: #s01s[s08s].isspace():\n",
    "        print (s01s[s08s].isspace())\n",
    "        s02s.join(s01s[s08s])\n",
    "        s08s += 1   # words (behind fore blankspace) start.index\n",
    "        if (s08s == len(s01s)):\n",
    "            s02s = '\\n'\n",
    "            break\n",
    "    \n",
    "    for i in range (s08s, len(s01s)-1 ):\n",
    "        print ('here')\n",
    "        if (s01s[i].isspace() and s01s[i+1].isspace()):\n",
    "            continue\n",
    "        s02s.join(s01s[i+1])\n",
    "    \n",
    "    print(s02s)\n",
    "    \n"
   ]
  },
  {
   "cell_type": "code",
   "execution_count": 40,
   "metadata": {},
   "outputs": [],
   "source": [
    "for i in range (0,0):\n",
    "    print ('yep')"
   ]
  },
  {
   "cell_type": "code",
   "execution_count": 8,
   "metadata": {},
   "outputs": [
    {
     "name": "stdout",
     "output_type": "stream",
     "text": [
      "p 'hello'\n",
      "a(b(c(d)e), [p 'hello'])\n",
      "//这是一条注释，下面一条是未定义的用户指令，用于识别连续长英文，和记录structure。\n",
      "bcad jfgjshkh*'#&fs hxk#! *%\n"
     ]
    }
   ],
   "source": [
    "\n",
    "s01s = open('t').read().splitlines()\n",
    "\n",
    "for line in s01s:\n",
    "    print (line)"
   ]
  },
  {
   "cell_type": "code",
   "execution_count": 29,
   "metadata": {},
   "outputs": [
    {
     "data": {
      "text/plain": [
       "False"
      ]
     },
     "execution_count": 29,
     "metadata": {},
     "output_type": "execute_result"
    }
   ],
   "source": [
    "'hi'.isspace()"
   ]
  },
  {
   "cell_type": "code",
   "execution_count": 51,
   "metadata": {},
   "outputs": [
    {
     "name": "stdout",
     "output_type": "stream",
     "text": [
      "p 'hello'\n",
      "\n",
      "p 'hello'\n",
      "\n",
      "a(b(c(d)e),     [p 'hello'])\n",
      "\n",
      "a(b(c(d)e), [p 'hello'])\n",
      "\n",
      "//这是一条注释，下面一条是未定义的用户指令，用于识别连续长英文，和记录structure。\n",
      "\n",
      "//这是一条注释，下面一条是未定义的用户指令，用于识别连续长英文，和记录structure。\n",
      "\n",
      "\n",
      "\n",
      "\n",
      "\n",
      "bcad jfgjshkh         *'#&fs hxk#!\n",
      "\n",
      "bcad jfgjshkh *'#&fs hxk#!\n",
      "\n"
     ]
    }
   ],
   "source": [
    "\n",
    "sfiles = open('t').readlines()\n",
    "\n",
    "for s01s in sfiles:\n",
    "    s08s = 0\n",
    "    s02s = ''\n",
    "\n",
    "    print (s01s)\n",
    "\n",
    "    while s01s[s08s].isspace():\n",
    "        s02s+=s01s[s08s]\n",
    "        s08s += 1 # words (behind fore blankspace) start.index\n",
    "        if (s08s == len(s01s)):\n",
    "            s02s = '\\n'\n",
    "            break\n",
    "    if s02s == '':\n",
    "        s02s += s01s[s08s]\n",
    "\n",
    "    for i in range (s08s, len(s01s)-1 ):\n",
    "        if (s01s[i].isspace() and s01s[i+1].isspace()):\n",
    "            continue\n",
    "        #print(s01s[i+1])\n",
    "        s02s += s01s[i+1]\n",
    "\n",
    "\n",
    "    print(s02s)\n",
    "\n"
   ]
  },
  {
   "cell_type": "code",
   "execution_count": null,
   "metadata": {},
   "outputs": [],
   "source": []
  }
 ],
 "metadata": {
  "kernelspec": {
   "display_name": "Python 3",
   "language": "python",
   "name": "python3"
  },
  "language_info": {
   "codemirror_mode": {
    "name": "ipython",
    "version": 3
   },
   "file_extension": ".py",
   "mimetype": "text/x-python",
   "name": "python",
   "nbconvert_exporter": "python",
   "pygments_lexer": "ipython3",
   "version": "3.7.2"
  }
 },
 "nbformat": 4,
 "nbformat_minor": 2
}
