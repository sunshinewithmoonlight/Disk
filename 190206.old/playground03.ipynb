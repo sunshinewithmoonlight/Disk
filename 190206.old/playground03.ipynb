{
 "cells": [
  {
   "cell_type": "code",
   "execution_count": 1,
   "metadata": {},
   "outputs": [
    {
     "name": "stdout",
     "output_type": "stream",
     "text": [
      "  1           0 BUILD_MAP                0\n",
      "              2 RETURN_VALUE\n",
      "  1           0 LOAD_NAME                0 (dict)\n",
      "              2 CALL_FUNCTION            0\n",
      "              4 RETURN_VALUE\n",
      "  1           0 LOAD_NAME                0 (join)\n",
      "              2 RETURN_VALUE\n"
     ]
    }
   ],
   "source": [
    "import dis\n",
    "dis.dis(\"{}\")\n",
    "dis.dis(\"dict()\")\n",
    "dis.dis(\"join\")"
   ]
  },
  {
   "cell_type": "code",
   "execution_count": 2,
   "metadata": {},
   "outputs": [
    {
     "data": {
      "text/plain": [
       "1"
      ]
     },
     "execution_count": 2,
     "metadata": {},
     "output_type": "execute_result"
    }
   ],
   "source": [
    "st03s=[1,2]\n",
    "st04s=[3,4]\n",
    "\n",
    "{st03s[i]:st04s[i] for i in range(len(st03s))}\n",
    "\n",
    "int(len(st03s)/2)\n"
   ]
  },
  {
   "cell_type": "code",
   "execution_count": 3,
   "metadata": {},
   "outputs": [
    {
     "name": "stdout",
     "output_type": "stream",
     "text": [
      "{1: 2}\n",
      "{3: 4}\n"
     ]
    }
   ],
   "source": [
    "st01s=[1,2,3,4]\n",
    "#{st01s[2i]: st01s[2i+1] for i in range(int(len(st01s)))}\n",
    "for i in range(int(len(st01s)/2)):\n",
    "    print ({st01s[(2*i)]: st01s[(2*i+1)] })\n"
   ]
  },
  {
   "cell_type": "code",
   "execution_count": 4,
   "metadata": {},
   "outputs": [
    {
     "data": {
      "text/plain": [
       "'\\n    代码块必须有LTS（长期支持）特性，才能算启动项目。\\n    \\n    \\n'"
      ]
     },
     "execution_count": 4,
     "metadata": {},
     "output_type": "execute_result"
    }
   ],
   "source": [
    "'''\n",
    "    代码块必须有LTS（长期支持）特性，才能算启动项目。\n",
    "    \n",
    "    \n",
    "'''"
   ]
  },
  {
   "cell_type": "code",
   "execution_count": 5,
   "metadata": {},
   "outputs": [],
   "source": [
    "def ErrorMatch(sd01s, sd02s):\n",
    "    print (sd01s,' AND ',sd02s,' DONT MATCH.')\n",
    "    "
   ]
  },
  {
   "cell_type": "code",
   "execution_count": 6,
   "metadata": {},
   "outputs": [
    {
     "data": {
      "text/plain": [
       "\"\\n    sf01s file_used\\n    s01s eachline\\n    s02s rearranged_line\\n    s03s key_index '()'_start_index\\n    s04s value_index '()'_end_index\\n    s05s dict_blanket\\n    s06s list_quotation\\n    s07s dict_quotation\\n    s08s num_startSpace\\n    s09s inQuotation\\n    \\n    \\n\""
      ]
     },
     "execution_count": 6,
     "metadata": {},
     "output_type": "execute_result"
    }
   ],
   "source": [
    "'''\n",
    "    sf01s file_used\n",
    "    s01s eachline\n",
    "    s02s rearranged_line\n",
    "    s03s key_index '()'_start_index\n",
    "    s04s value_index '()'_end_index\n",
    "    s05s dict_blanket\n",
    "    s06s list_quotation\n",
    "    s07s dict_quotation\n",
    "    s08s num_startSpace\n",
    "    s09s inQuotation\n",
    "    \n",
    "    \n",
    "'''"
   ]
  },
  {
   "cell_type": "code",
   "execution_count": 9,
   "metadata": {
    "scrolled": false
   },
   "outputs": [
    {
     "name": "stdout",
     "output_type": "stream",
     "text": [
      "p 'hello'\n",
      "\n",
      "{}\n",
      "{2: 8}\n",
      "0\n",
      "a(b(c(d)e), [p 'hello'])\n",
      "\n",
      "{1: 23, 3: 9, 5: 7}\n",
      "{15: 21}\n",
      "0\n",
      "//\n",
      "{}\n",
      "{}\n",
      "0\n",
      "\n",
      "\n",
      "{}\n",
      "{}\n",
      "0\n",
      "bcad jfgjshkh *'#&fs hxk#!'\n",
      "\n",
      "{}\n",
      "{15: 26}\n",
      "0\n"
     ]
    }
   ],
   "source": [
    "\n",
    "sf01s = open('t').readlines()\n",
    "\n",
    "for s01s in sf01s:\n",
    "    s08s = 0\n",
    "    s02s = ''\n",
    "\n",
    "    while s01s[s08s].isspace():\n",
    "        s02s += s01s[s08s]\n",
    "        s08s += 1\n",
    "        if (s08s == len(s01s)):\n",
    "            s08s = 0\n",
    "            s02s = '\\n'\n",
    "            break\n",
    "    if s02s == '':\n",
    "        s02s += s01s[s08s]\n",
    "        \n",
    "    s09s = -1\n",
    "\n",
    "    for i in range (s08s, len(s01s)-1 ):\n",
    "        if (s01s[i].isspace() and s01s[i+1].isspace()) and s09s == -1:\n",
    "            continue\n",
    "        if s01s[i] == '\\'':\n",
    "            s09s *= -1\n",
    "        s02s += s01s[i+1]\n",
    "        \n",
    "        if s01s[i] == '/' and s01s[i+1] == '/' :\n",
    "            break\n",
    "\n",
    "\n",
    "    print(s02s)\n",
    "    \n",
    "    s03s = []\n",
    "    s04s = []\n",
    "    s05s = {}\n",
    "    s06s = []\n",
    "    s07s = {}\n",
    "    for i in range (len(s02s)):\n",
    "        if (s02s[i] == '('): s03s.append(i)\n",
    "        if (s02s[len(s02s)-i-1] == ')'): s04s.append(len(s02s)-i-1)\n",
    "        if (s02s[i] == '\\''): s06s.append(i)\n",
    "        \n",
    "    if len(s03s) == len(s04s):\n",
    "        if s03s != []:\n",
    "            s05s = {s03s[i]:s04s[i] for i in range(len(s03s))}\n",
    "    else: ErrorMatch(len(s03s),len(s04s))\n",
    "    \n",
    "    if len(s06s) %2 == 0:\n",
    "        if s06s != []:\n",
    "            s07s = {s06s[2*i]: s06s[2*i+1] for i in range(int(len(s06s)/2))}\n",
    "    else: ErrorMatch(len(s06s), 'Attribute: is Even')\n",
    "    \n",
    "    print (s05s)\n",
    "    print (s07s)\n",
    "    print (s08s)\n",
    "\n"
   ]
  },
  {
   "cell_type": "code",
   "execution_count": 8,
   "metadata": {},
   "outputs": [
    {
     "data": {
      "text/plain": [
       "'\\n    未经运行测试过的代码行、块，不应提交给发布版本。\\n    \\n    \\n'"
      ]
     },
     "execution_count": 8,
     "metadata": {},
     "output_type": "execute_result"
    }
   ],
   "source": [
    "'''\n",
    "    未经运行测试过的代码行、块，不应提交给发布版本。\n",
    "    \n",
    "    \n",
    "'''"
   ]
  },
  {
   "cell_type": "code",
   "execution_count": null,
   "metadata": {},
   "outputs": [],
   "source": []
  }
 ],
 "metadata": {
  "kernelspec": {
   "display_name": "Python 3",
   "language": "python",
   "name": "python3"
  },
  "language_info": {
   "codemirror_mode": {
    "name": "ipython",
    "version": 3
   },
   "file_extension": ".py",
   "mimetype": "text/x-python",
   "name": "python",
   "nbconvert_exporter": "python",
   "pygments_lexer": "ipython3",
   "version": "3.7.2"
  }
 },
 "nbformat": 4,
 "nbformat_minor": 2
}
