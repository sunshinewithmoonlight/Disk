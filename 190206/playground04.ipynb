{
 "cells": [
  {
   "cell_type": "code",
   "execution_count": 1,
   "metadata": {},
   "outputs": [
    {
     "name": "stdout",
     "output_type": "stream",
     "text": [
      "  [p **] [print **] [p (**)] \n",
      "\n",
      "['p **', 'print **', 'p (**)']\n"
     ]
    }
   ],
   "source": [
    "import re\n",
    "eachline = '  [p **] [print **] [p (**)] \\n'\n",
    "print (eachline)\n",
    "st01s = re.split(r'\\] \\[|\\s*\\[|\\]\\s*', eachline)\n",
    "print (st01s[1:-1])\n",
    "\n",
    "eachline = ''\n"
   ]
  },
  {
   "cell_type": "code",
   "execution_count": 6,
   "metadata": {},
   "outputs": [
    {
     "data": {
      "text/plain": [
       "'\\n    sf02s language_user\\n    s10s express_file\\n    s11s lists\\n    s12s list\\n    s13s\\n    \\n\\n\\n'"
      ]
     },
     "execution_count": 6,
     "metadata": {},
     "output_type": "execute_result"
    }
   ],
   "source": [
    "'''\n",
    "    sf02s language_user\n",
    "    s10s express_file\n",
    "    s11s lists\n",
    "    s12s list\n",
    "    s13s\n",
    "    \n",
    "\n",
    "\n",
    "'''"
   ]
  },
  {
   "cell_type": "code",
   "execution_count": 5,
   "metadata": {},
   "outputs": [
    {
     "name": "stdout",
     "output_type": "stream",
     "text": [
      "[['p **', 'print **', 'p (**)']]\n"
     ]
    }
   ],
   "source": [
    "import re\n",
    "\n",
    "s11s = []\n",
    "sf02s = open('language_user').readlines()\n",
    "for eachline in sf02s:\n",
    "    s12s = re.split(r'\\] \\[|\\s*\\[|\\]\\s*', eachline)\n",
    "    if len(s12s[1:-1]) == 0: continue\n",
    "    #for each in s12s[1:-1]:\n",
    "        #s13s = re.split(\n",
    "    s11s.append(s12s[1:-1])\n",
    "    \n",
    "print (s11s)"
   ]
  },
  {
   "cell_type": "code",
   "execution_count": 5,
   "metadata": {},
   "outputs": [
    {
     "ename": "NameError",
     "evalue": "name 'express' is not defined",
     "output_type": "error",
     "traceback": [
      "\u001b[0;31m---------------------------------------------------------------------------\u001b[0m",
      "\u001b[0;31mNameError\u001b[0m                                 Traceback (most recent call last)",
      "\u001b[0;32m<ipython-input-5-87c99bb43c3b>\u001b[0m in \u001b[0;36m<module>\u001b[0;34m\u001b[0m\n\u001b[1;32m      1\u001b[0m \u001b[0;34m\u001b[0m\u001b[0m\n\u001b[1;32m      2\u001b[0m \u001b[0;32mfor\u001b[0m \u001b[0ms12s\u001b[0m \u001b[0;32min\u001b[0m \u001b[0ms11s\u001b[0m\u001b[0;34m:\u001b[0m\u001b[0;34m\u001b[0m\u001b[0;34m\u001b[0m\u001b[0m\n\u001b[0;32m----> 3\u001b[0;31m     \u001b[0;32mif\u001b[0m \u001b[0mexpress\u001b[0m \u001b[0;32min\u001b[0m \u001b[0mlist\u001b[0m\u001b[0;34m:\u001b[0m\u001b[0;34m\u001b[0m\u001b[0;34m\u001b[0m\u001b[0m\n\u001b[0m\u001b[1;32m      4\u001b[0m         \u001b[0mexpress\u001b[0m \u001b[0;34m=\u001b[0m \u001b[0mlist\u001b[0m\u001b[0;34m[\u001b[0m\u001b[0;36m0\u001b[0m\u001b[0;34m]\u001b[0m\u001b[0;34m\u001b[0m\u001b[0;34m\u001b[0m\u001b[0m\n\u001b[1;32m      5\u001b[0m \u001b[0;32mif\u001b[0m \u001b[0mexpress\u001b[0m \u001b[0;32mnot\u001b[0m \u001b[0;32min\u001b[0m \u001b[0mlist\u001b[0m\u001b[0;34m:\u001b[0m \u001b[0mThrowError\u001b[0m\u001b[0;34m(\u001b[0m\u001b[0;34m)\u001b[0m\u001b[0;34m\u001b[0m\u001b[0;34m\u001b[0m\u001b[0m\n",
      "\u001b[0;31mNameError\u001b[0m: name 'express' is not defined"
     ]
    }
   ],
   "source": [
    "\n",
    "for s12s in s11s:\n",
    "    if express in list:\n",
    "        express = list[0]\n",
    "if express not in list: ThrowError()\n"
   ]
  }
 ],
 "metadata": {
  "kernelspec": {
   "display_name": "Python 3",
   "language": "python",
   "name": "python3"
  },
  "language_info": {
   "codemirror_mode": {
    "name": "ipython",
    "version": 3
   },
   "file_extension": ".py",
   "mimetype": "text/x-python",
   "name": "python",
   "nbconvert_exporter": "python",
   "pygments_lexer": "ipython3",
   "version": "3.7.2"
  }
 },
 "nbformat": 4,
 "nbformat_minor": 2
}
