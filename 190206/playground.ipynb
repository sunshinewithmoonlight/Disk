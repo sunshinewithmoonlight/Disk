{
 "cells": [
  {
   "cell_type": "code",
   "execution_count": 1,
   "metadata": {},
   "outputs": [
    {
     "name": "stdout",
     "output_type": "stream",
     "text": [
      "[['abc']]\n",
      "[['p', '\"hello world!\"']]\n",
      "[['//p', ['newline::backspace[3]'], '\"hello world!\"']]\n",
      "[['def']]\n",
      "[['ghijklmn']]\n",
      "[['opq']]\n",
      "[['rst']]\n",
      "[['rst']]\n",
      "[['rst']]\n",
      "[['uvwxyz']]\n"
     ]
    }
   ],
   "source": [
    "import re\n",
    "import pyparsing\n",
    "from pyparsing import *\n",
    "\n",
    "f=open('q')\n",
    "\n",
    "for eachline in f:\n",
    "    u_i = eachline\n",
    "\n",
    "    operators = [\n",
    "        'p',\n",
    "        '\"',\n",
    "        '//',\n",
    "\n",
    "    ]\n",
    "    \n",
    "    oper = oneOf(operators)\n",
    "    uni_p = u' '.join(chr(c) for c in range(33, 127) if not (chr(c).isspace()))\n",
    "    u_i = '(' + u_i + ')'\n",
    "    unkn = Word(pyparsing.alphanums)\n",
    "    value = Word(uni_p)\n",
    "    parl = nestedExpr('(', ')')\n",
    "\n",
    "    line01 = oper + value\n",
    "    line02 = oper\n",
    "    line03 = unkn\n",
    "    line04 = '//' + unkn\n",
    "\n",
    "#每种支持的表达式列于上方\n",
    "\n",
    "    query = Forward()\n",
    "    query << (line01 | line02 | line04 | parl)\n",
    "    resu = query.parseString(u_i)\n",
    "\n",
    "    print(resu)"
   ]
  },
  {
   "cell_type": "code",
   "execution_count": 2,
   "metadata": {},
   "outputs": [],
   "source": [
    "import re\n",
    "import pyparsing"
   ]
  },
  {
   "cell_type": "code",
   "execution_count": 3,
   "metadata": {
    "scrolled": false
   },
   "outputs": [
    {
     "name": "stdout",
     "output_type": "stream",
     "text": [
      "[]\n",
      "['a(b(c(d', ',e(f', 'g', ',h(i(j', ',k(l', 'm', ',n(o', ',', ' e']\n"
     ]
    }
   ],
   "source": [
    "print(re.findall(r'\\（.\\)', \\\n",
    "'a(b(c(d),e(f)g),h(i(j),k(l)m),n(o),) e'))\n",
    "\n",
    "print(re.split(r'\\)', \\\n",
    "'a(b(c(d),e(f)g),h(i(j),k(l)m),n(o),) e'))"
   ]
  },
  {
   "cell_type": "code",
   "execution_count": 4,
   "metadata": {},
   "outputs": [
    {
     "name": "stdout",
     "output_type": "stream",
     "text": [
      "ABCDEFGHIJKLMNOPQRSTUVWXYZabcdefghijklmnopqrstuvwxyz0123456789_-()\n"
     ]
    }
   ],
   "source": [
    "print(pyparsing.alphanums+'_-()')"
   ]
  },
  {
   "cell_type": "code",
   "execution_count": 5,
   "metadata": {},
   "outputs": [
    {
     "name": "stdout",
     "output_type": "stream",
     "text": [
      "false\n"
     ]
    }
   ],
   "source": [
    "thecontent = pyparsing.Word(pyparsing.alphanums) | '-'\n",
    "\n",
    "parens = pyparsing.nestedExpr( '(', ')', content=thecontent)\n",
    "\n",
    "try:\n",
    "    parens.parseString(\"((a + b) + c)\")\n",
    "except BaseException:\n",
    "    print('false')\n",
    "##  引用了异常处理，用print()抛出"
   ]
  },
  {
   "cell_type": "code",
   "execution_count": 6,
   "metadata": {},
   "outputs": [
    {
     "name": "stdout",
     "output_type": "stream",
     "text": [
      "!\"#$%&'()*+,-./0123456789:;<=>?@ABCDEFGHIJKLMNOPQRSTUVWXYZ[\\]^_`abcdefghijklmnopqrstuvwxyz{|}~\n"
     ]
    }
   ],
   "source": [
    "print(u''.join(chr(c) for c in range(33, 127) if not ( chr(c).isspace() )))\n"
   ]
  },
  {
   "cell_type": "code",
   "execution_count": 7,
   "metadata": {
    "scrolled": false
   },
   "outputs": [
    {
     "name": "stdout",
     "output_type": "stream",
     "text": [
      "[['address',\n",
      "  'like',\n",
      "  'street',\n",
      "  'AND',\n",
      "  'vote',\n",
      "  '=',\n",
      "  'True',\n",
      "  'AND',\n",
      "  [['age>=25', 'AND', 'gender', '=', 'M'],\n",
      "   'OR',\n",
      "   ['age', 'between', '[20,30]', 'AND', 'gender', '=', 'F'],\n",
      "   'OR',\n",
      "   ['age', '>=', '70', 'AND', 'eyes', '!=', 'blue']]]]\n"
     ]
    }
   ],
   "source": [
    "import re\n",
    "from pyparsing import * \n",
    "\n",
    "user_input = open('e')\n",
    "\n",
    "OPERATORS = [ \n",
    "    '<', \n",
    "    '<=', \n",
    "    '>', \n",
    "    '>=', \n",
    "    '=', \n",
    "    '!=', \n",
    "    'like' \n",
    "    'regexp', \n",
    "    'between' \n",
    "] \n",
    "\n",
    "unicode_printables = u''.join(chr(c) for c in range(33, 127) if not (chr(c).isspace()))\n",
    "user_input = ' '.join(eachline for eachline in user_input)\n",
    "user_input = '(' + user_input + ')' \n",
    "\n",
    "AND = Keyword(\"AND\").setName('AND') \n",
    "OR = Keyword(\"OR\").setName('OR') \n",
    "FIELD = Word(alphanums).setName('FIELD') \n",
    "OPERATOR = oneOf(OPERATORS).setName('OPERATOR') \n",
    "VALUE = Word(unicode_printables).setName('VALUE') \n",
    "CRITERION = FIELD + OPERATOR + VALUE\n",
    "\n",
    "QUERY = Forward() \n",
    "NESTED_PARENTHESES = nestedExpr('(', ')') \n",
    "QUERY << (CRITERION | AND | OR | NESTED_PARENTHESES) \n",
    "\n",
    "RESULT = QUERY.parseString(user_input) \n",
    "RESULT.pprint() \n",
    "\n"
   ]
  },
  {
   "cell_type": "code",
   "execution_count": 8,
   "metadata": {},
   "outputs": [
    {
     "data": {
      "text/plain": [
       "['This', 'Thing', 'Is', 'Cool']"
      ]
     },
     "execution_count": 8,
     "metadata": {},
     "output_type": "execute_result"
    }
   ],
   "source": [
    "s = \"ThisThingIsCool\"\n",
    "list(map(str.lower, re.findall(r'[A-Z][^A-Z]*', s)))\n",
    "re.findall(r'[A-Z][^A-Z]*', s)"
   ]
  },
  {
   "cell_type": "code",
   "execution_count": 9,
   "metadata": {},
   "outputs": [
    {
     "name": "stdout",
     "output_type": "stream",
     "text": [
      "['a(b(c(d),e(f)g),h(i(j),k(l)m),n(o),) e']\n",
      "[['a', ['b', ['c', ['d'], ',e', ['f'], 'g'], ',h', ['i', ['j'], ',k', ['l'], 'm'], ',n', ['o'], ','], 'e']]\n"
     ]
    }
   ],
   "source": [
    "import re\n",
    "import pyparsing\n",
    "from pyparsing import *\n",
    "\n",
    "f=open('w')\n",
    "\n",
    "for eachline in f:\n",
    "    u_i = eachline\n",
    "\n",
    "    operators = [\n",
    "        'p',\n",
    "        '\"',\n",
    "        '//',\n",
    "\n",
    "    ]\n",
    "    \n",
    "    oper = oneOf(operators)\n",
    "    uni_p = u' '.join(chr(c) for c in range(33, 127) if not (chr(c).isspace()))\n",
    "    #u_i = '(' + u_i + ')'\n",
    "    unkn = Word(pyparsing.alphanums)\n",
    "    value = Word(uni_p)\n",
    "    parl = nestedExpr('(', ')')\n",
    "\n",
    "#每种支持的表达式列于上方\n",
    "\n",
    "    query = Forward()\n",
    "    query << ( '//' + Word(uni_p) | oper + value | value | oper | parl )\n",
    "    resu = query.parseString(u_i)\n",
    "\n",
    "    print(resu)\n",
    "    print(pyparsing.nestedExpr('(', ')').parseString('(' + u_i + ')'))\n",
    "    #分割括号嵌套的前提是，必须在字符串前后加上括号"
   ]
  },
  {
   "cell_type": "code",
   "execution_count": null,
   "metadata": {},
   "outputs": [],
   "source": []
  },
  {
   "cell_type": "code",
   "execution_count": 10,
   "metadata": {},
   "outputs": [
    {
     "data": {
      "text/plain": [
       "\" for eachline : 1.:search'//'\\n        2.:search'\\n        怎么进行语义分析呢？\\n        首先分析括号：空格。括号的空格主要是前后的空格。\\n        在括号外，考虑括号前和括号后是否有空格，括号内部不用考虑空格。\\n        \\n        学习程度好与坏，它是指针的问题，是指针与精度的问题。\\n\""
      ]
     },
     "execution_count": 10,
     "metadata": {},
     "output_type": "execute_result"
    }
   ],
   "source": [
    "''' for eachline : 1.:search'//'\n",
    "        2.:search'\n",
    "        怎么进行语义分析呢？\n",
    "        首先分析括号：空格。括号的空格主要是前后的空格。\n",
    "        在括号外，考虑括号前和括号后是否有空格，括号内部不用考虑空格。\n",
    "        \n",
    "        学习程度好与坏，它是指针的问题，是指针与精度的问题。\n",
    "'''"
   ]
  },
  {
   "cell_type": "code",
   "execution_count": 11,
   "metadata": {},
   "outputs": [],
   "source": [
    "#for i in "
   ]
  },
  {
   "cell_type": "code",
   "execution_count": 12,
   "metadata": {},
   "outputs": [
    {
     "data": {
      "text/plain": [
       "'ABCDEFGHIJKLMNOPQRSTUVWXYZabcdefghijklmnopqrstuvwxyz_'"
      ]
     },
     "execution_count": 12,
     "metadata": {},
     "output_type": "execute_result"
    }
   ],
   "source": [
    "alphas+'_'"
   ]
  },
  {
   "cell_type": "code",
   "execution_count": null,
   "metadata": {},
   "outputs": [],
   "source": []
  }
 ],
 "metadata": {
  "kernelspec": {
   "display_name": "Python 3",
   "language": "python",
   "name": "python3"
  },
  "language_info": {
   "codemirror_mode": {
    "name": "ipython",
    "version": 3
   },
   "file_extension": ".py",
   "mimetype": "text/x-python",
   "name": "python",
   "nbconvert_exporter": "python",
   "pygments_lexer": "ipython3",
   "version": "3.7.2"
  }
 },
 "nbformat": 4,
 "nbformat_minor": 2
}
